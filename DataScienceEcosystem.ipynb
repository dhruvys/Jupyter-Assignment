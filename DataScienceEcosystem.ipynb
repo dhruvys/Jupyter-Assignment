{
 "cells": [
  {
   "cell_type": "markdown",
   "id": "6a271c65-a948-44aa-9058-2895c1103c74",
   "metadata": {},
   "source": [
    "# Data Science Tools and Ecosystem"
   ]
  },
  {
   "cell_type": "markdown",
   "id": "f7eacdae-f5d5-442d-bbec-163ccaf2b557",
   "metadata": {},
   "source": [
    "In this notebook, Data Science Tools and Ecosystem are summarized."
   ]
  },
  {
   "cell_type": "markdown",
   "id": "27f93f13-0606-420c-9638-18bac9ca284f",
   "metadata": {},
   "source": [
    "**Objectives:**"
   ]
  },
  {
   "cell_type": "markdown",
   "id": "faf6c551-8f47-44f7-a53e-8cb0d061449b",
   "metadata": {},
   "source": [
    "* List popular languages for Data Science\n",
    "* List commonly used libraries used by Data Scientists\n",
    "* used libraries used by Data Scientists include:\n"
   ]
  },
  {
   "cell_type": "markdown",
   "id": "c1780077-c259-4a87-a37c-18ccd7b80679",
   "metadata": {},
   "source": [
    "Some of the popular languages that Data Scientists use are:"
   ]
  },
  {
   "cell_type": "markdown",
   "id": "13779f0c-723e-486e-a90f-199432e82ecf",
   "metadata": {},
   "source": [
    "1.  Python \n",
    "2.  SQL\n",
    "3.  R\n",
    "4.  Scala"
   ]
  },
  {
   "cell_type": "markdown",
   "id": "a144dbfd-60da-482f-b836-ead5c5e27559",
   "metadata": {},
   "source": [
    "Some of the commonly used libraries used by Data Scientists include:"
   ]
  },
  {
   "cell_type": "markdown",
   "id": "2407ae42-4b53-4c38-85db-cbe13ca8c5c2",
   "metadata": {},
   "source": [
    "1. Scikit-learn\n",
    "2. SciPy\n",
    "3. TensorFlow\n",
    "4. PyTorch"
   ]
  },
  {
   "cell_type": "markdown",
   "id": "bbb53560-0131-41f7-9d5e-974f4f99f3b5",
   "metadata": {},
   "source": [
    "|Data Science Tools|\n",
    "|:----------------:|\n",
    "|Python|\n",
    "|R|\n",
    "|NumPy|"
   ]
  },
  {
   "cell_type": "markdown",
   "id": "de87a70d-0b1d-4fbe-998f-69a6ed287e41",
   "metadata": {},
   "source": [
    "### Below are a few examples of evaluating arithmetic expressions in Python"
   ]
  },
  {
   "cell_type": "markdown",
   "id": "f03f4608-9bb0-4943-97e4-3fb58f97d9a6",
   "metadata": {},
   "source": [
    " This a simple arithmetic expression to mutiply then add integers."
   ]
  },
  {
   "cell_type": "code",
   "execution_count": 1,
   "id": "03f085fb-ee85-4ec3-be31-b6be146c969a",
   "metadata": {
    "tags": []
   },
   "outputs": [
    {
     "data": {
      "text/plain": [
       "17"
      ]
     },
     "execution_count": 1,
     "metadata": {},
     "output_type": "execute_result"
    }
   ],
   "source": [
    "(3*4)+5"
   ]
  },
  {
   "cell_type": "markdown",
   "id": "a095123d-43d3-432d-b15f-949f60e28bf1",
   "metadata": {},
   "source": [
    " This will convert 200 minutes to hours by diving by 60"
   ]
  },
  {
   "cell_type": "code",
   "execution_count": 6,
   "id": "344122f6-90dd-4e0d-b11f-5211b4645eb2",
   "metadata": {
    "tags": []
   },
   "outputs": [
    {
     "data": {
      "text/plain": [
       "3"
      ]
     },
     "execution_count": 6,
     "metadata": {},
     "output_type": "execute_result"
    }
   ],
   "source": [
    "200 // 60"
   ]
  },
  {
   "cell_type": "markdown",
   "id": "c2bc5efa-f299-4b6e-8284-ab49308a4b83",
   "metadata": {},
   "source": [
    "## Author\n"
   ]
  }
 ],
 "metadata": {
  "kernelspec": {
   "display_name": "Python",
   "language": "python",
   "name": "conda-env-python-py"
  },
  "language_info": {
   "codemirror_mode": {
    "name": "ipython",
    "version": 3
   },
   "file_extension": ".py",
   "mimetype": "text/x-python",
   "name": "python",
   "nbconvert_exporter": "python",
   "pygments_lexer": "ipython3",
   "version": "3.7.12"
  }
 },
 "nbformat": 4,
 "nbformat_minor": 5
}
